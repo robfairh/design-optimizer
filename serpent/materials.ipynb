{
 "cells": [
  {
   "cell_type": "markdown",
   "metadata": {},
   "source": [
    "## UO2 + UCO\n",
    "\n",
    "UO2 + U2CO3\n",
    "1:1 molar fraction\n",
    "\n",
    "e% = 19.75\n",
    "%"
   ]
  },
  {
   "cell_type": "code",
   "execution_count": 3,
   "metadata": {},
   "outputs": [
    {
     "name": "stdout",
     "output_type": "stream",
     "text": [
      "NU335: 0.06650607864568411\n",
      "NU238: 0.26682725468764923\n",
      "NC: 0.08333333333333333\n",
      "NO: 0.5833333333333333\n"
     ]
    }
   ],
   "source": [
    "e = 0.1975\n",
    "\n",
    "NU_UO2 = 1/3\n",
    "NO_UO2 = 2/3\n",
    "\n",
    "NU_U2CO3 = 2/6\n",
    "NC_U2CO3 = 1/6\n",
    "NO_U2CO3 = 3/6\n",
    "\n",
    "NU = 0.5 * NU_UO2 + 0.5 * NU_U2CO3\n",
    "NC = 0.5 * NC_U2CO3\n",
    "NO = 0.5 * NO_UO2 + 0.5 * NO_U2CO3\n",
    "N = NU + NC + NO\n",
    "\n",
    "A = e/(1-e)*238/235\n",
    "NU235 = A*NU/(1+A)\n",
    "NU238 = NU - NU235\n",
    "\n",
    "print(f'NU335: {NU235}')\n",
    "print(f'NU238: {NU238}')\n",
    "print(f'NC: {NC}')\n",
    "print(f'NO: {NO}')"
   ]
  },
  {
   "cell_type": "markdown",
   "metadata": {},
   "source": [
    "# SiC\n",
    "\n",
    "I assume SiC 1:1 molar relation"
   ]
  },
  {
   "cell_type": "code",
   "execution_count": 15,
   "metadata": {},
   "outputs": [
    {
     "name": "stdout",
     "output_type": "stream",
     "text": [
      "W_Si28: 0.6434856302500063\n",
      "W_Si29: 0.03397392756549266\n",
      "W_Si30: 0.023181036416660434\n",
      "W_C: 0.29935940576784065\n"
     ]
    }
   ],
   "source": [
    "NSi28 = 0.922\n",
    "NSi29 = 0.047\n",
    "NSi30 = 0.031\n",
    "\n",
    "A_Si = NSi28*28 + NSi29*29 + NSi30*30\n",
    "A_C = 12.01\n",
    "A_SiC = 0.5 * A_Si + 0.5 * A_C\n",
    "W_Si28 = 0.5*NSi28*28/A_SiC\n",
    "W_Si29 = 0.5*NSi29*29/A_SiC\n",
    "W_Si30 = 0.5*NSi30*30/A_SiC\n",
    "W_C = 0.5*12.01/A_SiC\n",
    "\n",
    "print(f'W_Si28: {W_Si28}')\n",
    "print(f'W_Si29: {W_Si29}')\n",
    "print(f'W_Si30: {W_Si30}')\n",
    "print(f'W_C: {W_C}')"
   ]
  },
  {
   "cell_type": "markdown",
   "metadata": {},
   "source": [
    "# Burnable poison composition"
   ]
  },
  {
   "cell_type": "code",
   "execution_count": 23,
   "metadata": {},
   "outputs": [
    {
     "name": "stdout",
     "output_type": "stream",
     "text": [
      "rho tot: 3.21010588890953\n",
      "w_Er:0.004372581825786887\n",
      "w_O16: 0.0006274181742131131\n",
      "w_Si28:0.6402682020987562\n",
      "w_Si29:0.03380405792766519\n",
      "w_Si30:0.023065131234577135\n",
      "w_C: 0.29786260873900144\n"
     ]
    }
   ],
   "source": [
    "X_Er2O3 = 0.005\n",
    "X_SiC = 1. - X_Er2O3\n",
    "\n",
    "rho_Er2O3 = 8.64  # g/cm3 source: https://en.wikipedia.org/wiki/Erbium(III)_oxide\n",
    "rho_SiC = 3.2  # g/cm3\n",
    "\n",
    "rho_tot = 1/(X_Er2O3/rho_Er2O3 + X_SiC/rho_SiC)\n",
    "print(f'rho tot: {rho_tot}')\n",
    "\n",
    "A_Er = 167.26  # g\n",
    "A_O = 16  # g\n",
    "A_Er2O3 = 2/5*A_Er + 3/5*A_O\n",
    "\n",
    "w_Er = X_Er2O3 * 2/5*A_Er / A_Er2O3\n",
    "w_O = X_Er2O3 * 3/5*A_O / A_Er2O3\n",
    "\n",
    "w_Si28 = X_SiC * 0.5 * NSi28*28 / A_SiC\n",
    "w_Si29 = X_SiC * 0.5 * NSi29*29 / A_SiC\n",
    "w_Si30 = X_SiC * 0.5 * NSi30*30 / A_SiC\n",
    "w_C = X_SiC * 0.5 * A_C / A_SiC\n",
    "\n",
    "print(f'w_Er:{w_Er}')\n",
    "print(f'w_O16: {w_O}')\n",
    "print(f'w_Si28:{w_Si28}')\n",
    "print(f'w_Si29:{w_Si29}')\n",
    "print(f'w_Si30:{w_Si30}')\n",
    "print(f'w_C: {w_C}')"
   ]
  },
  {
   "cell_type": "code",
   "execution_count": 30,
   "metadata": {},
   "outputs": [
    {
     "name": "stdout",
     "output_type": "stream",
     "text": [
      "rho tot: 3.21010588890953\n",
      "A_Er: 167.32707000000002\n",
      "w_Er162:1e-05\n",
      "w_Er164:7e-05\n",
      "w_Er166:0.00145\n",
      "w_Er167:0.001\n",
      "w_Er168:0.00118\n",
      "w_Er170:0.00066\n",
      "w_O16: 0.00063\n",
      "w_Si28:0.64027\n",
      "w_Si29:0.0338\n",
      "w_Si30:0.02307\n",
      "w_C: 0.29786\n"
     ]
    }
   ],
   "source": [
    "X_Er2O3 = 0.005\n",
    "X_SiC = 1. - X_Er2O3\n",
    "\n",
    "rho_Er2O3 = 8.64  # g/cm3 source: https://en.wikipedia.org/wiki/Erbium(III)_oxide\n",
    "rho_SiC = 3.2  # g/cm3\n",
    "\n",
    "rho_tot = 1/(X_Er2O3/rho_Er2O3 + X_SiC/rho_SiC)\n",
    "print(f'rho tot: {rho_tot}')\n",
    "\n",
    "NEr162 = 0.139/100\n",
    "NEr164 = 1.601/100\n",
    "NEr166 = 33.503/100\n",
    "NEr167 = 22.869/100\n",
    "NEr168 = 26.978/100\n",
    "NEr170 = 14.910/100\n",
    "\n",
    "A_Er = NEr162*162 + NEr164*164 + NEr166*166 + NEr167*167 + NEr168*168 + NEr170*170\n",
    "print(f'A_Er: {A_Er}')\n",
    "A_O = 16  # g\n",
    "A_Er2O3 = 2/5*A_Er + 3/5*A_O\n",
    "\n",
    "w_Er162 = X_Er2O3 * 2/5*NEr162*162 / A_Er2O3\n",
    "w_Er164 = X_Er2O3 * 2/5*NEr164*164 / A_Er2O3\n",
    "w_Er166 = X_Er2O3 * 2/5*NEr166*166 / A_Er2O3\n",
    "w_Er167 = X_Er2O3 * 2/5*NEr167*167 / A_Er2O3\n",
    "w_Er168 = X_Er2O3 * 2/5*NEr168*168 / A_Er2O3\n",
    "w_Er170 = X_Er2O3 * 2/5*NEr170*170 / A_Er2O3\n",
    "w_O = X_Er2O3 * 3/5*A_O / A_Er2O3\n",
    "\n",
    "w_Si28 = X_SiC * 0.5 * NSi28*28 / A_SiC\n",
    "w_Si29 = X_SiC * 0.5 * NSi29*29 / A_SiC\n",
    "w_Si30 = X_SiC * 0.5 * NSi30*30 / A_SiC\n",
    "w_C = X_SiC * 0.5 * A_C / A_SiC\n",
    "\n",
    "print(f'w_Er162:{round(w_Er162, 5)}')\n",
    "print(f'w_Er164:{round(w_Er164, 5)}')\n",
    "print(f'w_Er166:{round(w_Er166, 5)}')\n",
    "print(f'w_Er167:{round(w_Er167, 5)}')\n",
    "print(f'w_Er168:{round(w_Er168, 5)}')\n",
    "print(f'w_Er170:{round(w_Er170, 5)}')\n",
    "print(f'w_O16: {round(w_O, 5)}')\n",
    "\n",
    "print(f'w_Si28:{round(w_Si28, 5)}')\n",
    "print(f'w_Si29:{round(w_Si29, 5)}')\n",
    "print(f'w_Si30:{round(w_Si30, 5)}')\n",
    "print(f'w_C: {round(w_C, 5)}')"
   ]
  }
 ],
 "metadata": {
  "kernelspec": {
   "display_name": "Python 3",
   "language": "python",
   "name": "python3"
  },
  "language_info": {
   "codemirror_mode": {
    "name": "ipython",
    "version": 3
   },
   "file_extension": ".py",
   "mimetype": "text/x-python",
   "name": "python",
   "nbconvert_exporter": "python",
   "pygments_lexer": "ipython3",
   "version": "3.8.3"
  }
 },
 "nbformat": 4,
 "nbformat_minor": 2
}
