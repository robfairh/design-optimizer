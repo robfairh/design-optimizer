{
 "cells": [
  {
   "cell_type": "markdown",
   "metadata": {},
   "source": [
    "## UO2 + UCO\n",
    "\n",
    "UO2 + U2CO3\n",
    "1:1 molar fraction\n",
    "\n",
    "e% = 19.75\n",
    "%"
   ]
  },
  {
   "cell_type": "code",
   "execution_count": 3,
   "metadata": {},
   "outputs": [
    {
     "name": "stdout",
     "output_type": "stream",
     "text": [
      "NU335: 0.06650607864568411\n",
      "NU238: 0.26682725468764923\n",
      "NC: 0.08333333333333333\n",
      "NO: 0.5833333333333333\n"
     ]
    }
   ],
   "source": [
    "e = 0.1975\n",
    "\n",
    "NU_UO2 = 1/3\n",
    "NO_UO2 = 2/3\n",
    "\n",
    "NU_U2CO3 = 2/6\n",
    "NC_U2CO3 = 1/6\n",
    "NO_U2CO3 = 3/6\n",
    "\n",
    "NU = 0.5 * NU_UO2 + 0.5 * NU_U2CO3\n",
    "NC = 0.5 * NC_U2CO3\n",
    "NO = 0.5 * NO_UO2 + 0.5 * NO_U2CO3\n",
    "N = NU + NC + NO\n",
    "\n",
    "A = e/(1-e)*238/235\n",
    "NU235 = A*NU/(1+A)\n",
    "NU238 = NU - NU235\n",
    "\n",
    "print(f'NU335: {NU235}')\n",
    "print(f'NU238: {NU238}')\n",
    "print(f'NC: {NC}')\n",
    "print(f'NO: {NO}')"
   ]
  },
  {
   "cell_type": "markdown",
   "metadata": {},
   "source": [
    "# SiC\n",
    "\n",
    "I assume SiC 1:1 molar relation"
   ]
  },
  {
   "cell_type": "code",
   "execution_count": 17,
   "metadata": {},
   "outputs": [
    {
     "name": "stdout",
     "output_type": "stream",
     "text": [
      "W_Si28: 0.6434856302500063\n",
      "W_Si29: 0.03397392756549266\n",
      "W_Si30: 0.023181036416660434\n",
      "W_C: 0.29911014731174757\n"
     ]
    }
   ],
   "source": [
    "NSi = 0.5\n",
    "NSi28 = 0.922 * NSi\n",
    "NSi29 = 0.047 * NSi\n",
    "NSi30 = 0.031 * NSi\n",
    "NC = 0.5\n",
    "\n",
    "Atot = NSi28*28 + NSi29*29 + NSi30*30 + NC*12.01\n",
    "ASi28 = NSi28*28/Atot\n",
    "ASi29 = NSi29*29/Atot\n",
    "ASi30 = NSi30*30/Atot\n",
    "AC = NC*12/Atot\n",
    "\n",
    "print(f'W_Si28: {ASi28}')\n",
    "print(f'W_Si29: {ASi29}')\n",
    "print(f'W_Si30: {ASi30}')\n",
    "print(f'W_C: {AC}')"
   ]
  },
  {
   "cell_type": "code",
   "execution_count": null,
   "metadata": {},
   "outputs": [],
   "source": []
  }
 ],
 "metadata": {
  "kernelspec": {
   "display_name": "Python 3",
   "language": "python",
   "name": "python3"
  },
  "language_info": {
   "codemirror_mode": {
    "name": "ipython",
    "version": 3
   },
   "file_extension": ".py",
   "mimetype": "text/x-python",
   "name": "python",
   "nbconvert_exporter": "python",
   "pygments_lexer": "ipython3",
   "version": "3.8.3"
  }
 },
 "nbformat": 4,
 "nbformat_minor": 2
}
